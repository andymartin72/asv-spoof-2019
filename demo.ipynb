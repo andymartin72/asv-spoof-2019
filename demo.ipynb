{
  "cells": [
    {
      "cell_type": "code",
      "execution_count": 1,
      "metadata": {
        "colab": {
          "base_uri": "https://localhost:8080/"
        },
        "id": "guTUffNfFRCx",
        "outputId": "45637184-aa42-4d8a-8aa6-933d7c10c01a"
      },
      "outputs": [
        {
          "output_type": "stream",
          "name": "stdout",
          "text": [
            "Collecting tensorboardX\n",
            "  Downloading tensorboardX-2.6.2.2-py2.py3-none-any.whl.metadata (5.8 kB)\n",
            "Requirement already satisfied: numpy in /usr/local/lib/python3.11/dist-packages (from tensorboardX) (1.26.4)\n",
            "Requirement already satisfied: packaging in /usr/local/lib/python3.11/dist-packages (from tensorboardX) (24.2)\n",
            "Requirement already satisfied: protobuf>=3.20 in /usr/local/lib/python3.11/dist-packages (from tensorboardX) (4.25.6)\n",
            "Downloading tensorboardX-2.6.2.2-py2.py3-none-any.whl (101 kB)\n",
            "\u001b[2K   \u001b[90m━━━━━━━━━━━━━━━━━━━━━━━━━━━━━━━━━━━━━━━━\u001b[0m \u001b[32m101.7/101.7 kB\u001b[0m \u001b[31m1.1 MB/s\u001b[0m eta \u001b[36m0:00:00\u001b[0m\n",
            "\u001b[?25hInstalling collected packages: tensorboardX\n",
            "Successfully installed tensorboardX-2.6.2.2\n"
          ]
        }
      ],
      "source": [
        "!pip install tensorboardX"
      ]
    },
    {
      "cell_type": "code",
      "execution_count": 2,
      "metadata": {
        "id": "aGQt_fFxg1TX"
      },
      "outputs": [],
      "source": [
        "import numpy as np\n",
        "import pandas as pd\n",
        "from scipy.io import wavfile\n",
        "from scipy.fftpack import dct\n",
        "from matplotlib import pyplot as plt\n",
        "import os\n",
        "import soundfile as sf\n",
        "import torch\n",
        "import pickle\n",
        "import librosa\n",
        "import time\n",
        "import gc\n",
        "from torch.utils.data import DataLoader, Dataset\n",
        "import matplotlib.pyplot as plt\n",
        "from sklearn import preprocessing\n",
        "import collections\n",
        "from torch import Tensor\n",
        "import torch.nn as nn\n",
        "import sys\n",
        "from torchvision import transforms\n",
        "from torchsummary import summary\n",
        "from sklearn.metrics import confusion_matrix\n",
        "\n",
        "from tensorboardX import SummaryWriter\n",
        "\n",
        "from scipy.optimize import brentq\n",
        "from scipy.interpolate import interp1d\n",
        "from sklearn.metrics import roc_curve\n",
        "\n",
        "from joblib import Parallel, delayed\n",
        "import pdb"
      ]
    },
    {
      "cell_type": "code",
      "execution_count": 6,
      "metadata": {
        "colab": {
          "base_uri": "https://localhost:8080/"
        },
        "id": "b6W2uZW7ajji",
        "outputId": "1fa54331-8c93-48a8-c453-195c5505b6d6"
      },
      "outputs": [
        {
          "output_type": "stream",
          "name": "stdout",
          "text": [
            "Mounted at /content/drive/\n"
          ]
        }
      ],
      "source": [
        "from google.colab import drive\n",
        "drive.mount(\"/content/drive/\")"
      ]
    },
    {
      "cell_type": "code",
      "execution_count": null,
      "metadata": {
        "colab": {
          "base_uri": "https://localhost:8080/"
        },
        "id": "3b702KgbLd3E",
        "outputId": "207cc746-d59c-49a7-a06e-4a1ca861c153"
      },
      "outputs": [
        {
          "output_type": "stream",
          "name": "stdout",
          "text": [
            "Requirement already satisfied: samplerate in /usr/local/lib/python3.7/dist-packages (0.1.0)\n",
            "Requirement already satisfied: numpy in /usr/local/lib/python3.7/dist-packages (from samplerate) (1.21.5)\n",
            "Requirement already satisfied: cffi>=1.0.0 in /usr/local/lib/python3.7/dist-packages (from samplerate) (1.15.0)\n",
            "Requirement already satisfied: pycparser in /usr/local/lib/python3.7/dist-packages (from cffi>=1.0.0->samplerate) (2.21)\n"
          ]
        }
      ],
      "source": [
        "! pip install samplerate"
      ]
    },
    {
      "cell_type": "code",
      "execution_count": 7,
      "metadata": {
        "colab": {
          "base_uri": "https://localhost:8080/"
        },
        "id": "r55JIaj9hGEK",
        "outputId": "b70cfa05-6baf-496a-9e08-38a1ec55d20e"
      },
      "outputs": [
        {
          "output_type": "stream",
          "name": "stdout",
          "text": [
            "/content/drive/My Drive/FYP/ASVSpoof_2019/Test\n"
          ]
        }
      ],
      "source": [
        "#%cd drive/My\\ Drive/FYP/\n",
        "%cd /content/drive/My\\ Drive/FYP/ASVSpoof_2019/Test"
      ]
    },
    {
      "cell_type": "markdown",
      "metadata": {
        "id": "FgsRfiaqVxap"
      },
      "source": [
        "## Dataset Loader"
      ]
    },
    {
      "cell_type": "code",
      "execution_count": null,
      "metadata": {
        "id": "jRLZHZGlVv_1"
      },
      "outputs": [],
      "source": [
        "ASVFile = collections.namedtuple('ASVFile',\n",
        "    ['speaker_id', 'file_name', 'path', 'sys_id', 'key'])\n",
        "\n",
        "class ASVDataset(Dataset):\n",
        "  def __init__(self, feats_file, transform = None, is_eval = False, is_train = False):\n",
        "    self.sysid_dict = {\n",
        "            '-': 0,  # bonafide speech\n",
        "            'A01': 1, # neural waveform model\n",
        "            'A02': 2, # vocoder\n",
        "            'A03': 3, # vocoder\n",
        "            'A04': 4, # waveform concatenation\n",
        "            'A05': 5, # vocoder\n",
        "            'A06': 6, # spectral filtering\n",
        "            'A07': 7, # vocoder+GAN\n",
        "            'A08': 8, # neural waveform\n",
        "            'A09': 9, # vocoder\n",
        "            'A10': 10, # neural waveform\n",
        "            'A11': 11, # griffin lim\n",
        "            'A12': 12, # neural waveform\n",
        "            'A13': 13, # waveform concatenation+waveform filtering\n",
        "            'A14': 14, # vocoder\n",
        "            'A15': 15, # neural waveform\n",
        "            'A16': 16, # waveform concatenation\n",
        "            'A17': 17, # waveform filtering\n",
        "            'A18': 18, # vocoder\n",
        "            'A19': 19, # spectral filtering\n",
        "            # For PA:\n",
        "            'AA':20,\n",
        "            'AB':21,\n",
        "            'AC':22,\n",
        "            'BA':23,\n",
        "            'BB':24,\n",
        "            'BC':25,\n",
        "            'CA':26,\n",
        "            'CB':27,\n",
        "            'CC': 28\n",
        "    }\n",
        "    self.sysid_dict_inv = {v:k for k,v in self.sysid_dict.items()}\n",
        "    with open(feats_file, 'rb') as infile:\n",
        "        self.dataset = pickle.load(infile)\n",
        "    #self.dataset = torch.load(feats_file)\n",
        "    self.dataset['label'] = self.dataset['label'].replace(['bonafide','LA_spoof', 'PA_spoof'],[0, 1, 2])\n",
        "    self.data_x = self.dataset['data_x']\n",
        "    self.data_y = self.dataset['label'].to_numpy()\n",
        "    self.data_y = self.data_y.reshape(len(self.data_y), 1)\n",
        "    self.transform = transform\n",
        "    if self.transform:\n",
        "        # self.data_x = list(map(self.transform, self.data_x))\n",
        "        self.data_x = Parallel(n_jobs=1, prefer='threads')(delayed(self.transform)(x) for x in self.data_x)\n",
        "    self.labels = self.dataset['label']\n",
        "    self.is_eval = is_eval\n",
        "    self.is_train = is_train\n",
        "    self.protocols_fname = 'eval.trl' if is_eval else 'train.trn' if is_train else 'dev.trl'\n",
        "    self.protocols_fname = os.path.join('CM_protocol','cm_{}.txt'.format(self.protocols_fname))\n",
        "    self.dset_name = 'Eval' if is_eval else 'Train' if is_train else 'Dev'\n",
        "    self.files_dir = os.path.join(self.dset_name, \"flac\")\n",
        "    self.files_meta = self.parse_protocols_file(self.protocols_fname)\n",
        "\n",
        "  def __len__(self):\n",
        "    return len(self.data_x)\n",
        "\n",
        "  def __getitem__(self, idx):\n",
        "    x = self.data_x[idx]\n",
        "    label = float(self.data_y[idx])\n",
        "    return x, label, self.files_meta[idx]\n",
        "\n",
        "  def _parse_line(self, line):\n",
        "    tokens = line.strip().split(' ')\n",
        "    if tokens[4] == 'bonafide':\n",
        "      label_y = 0\n",
        "    elif tokens[4] == 'LA_spoof':\n",
        "      label_y = 1\n",
        "    else:\n",
        "      label_y = 2\n",
        "    return ASVFile(speaker_id=tokens[0],\n",
        "        file_name=tokens[1],\n",
        "        path=os.path.join(self.files_dir, tokens[1] + '.flac'),\n",
        "        sys_id=self.sysid_dict[tokens[3]],\n",
        "        key=label_y)\n",
        "\n",
        "  def parse_protocols_file(self, protocols_fname):\n",
        "      lines = open(protocols_fname).readlines()\n",
        "      files_meta = map(self._parse_line, lines)\n",
        "      return list(files_meta)"
      ]
    },
    {
      "cell_type": "markdown",
      "metadata": {
        "id": "TWQpuIucaLSn"
      },
      "source": [
        "## DL Model"
      ]
    },
    {
      "cell_type": "code",
      "execution_count": null,
      "metadata": {
        "id": "6vAWapa4KNRB"
      },
      "outputs": [],
      "source": [
        "class ResNetBlock(nn.Module):\n",
        "    def __init__(self, in_depth, depth, first=False):\n",
        "        super(ResNetBlock, self).__init__()\n",
        "        self.first = first\n",
        "        self.conv1 = nn.Conv2d(in_depth, depth, kernel_size=3, stride=1, padding=1)\n",
        "        self.bn1 = nn.BatchNorm2d(depth)\n",
        "        self.lrelu = nn.LeakyReLU(0.01)\n",
        "        self.dropout = nn.Dropout(0.5)\n",
        "        self.conv2 = nn.Conv2d(depth, depth, kernel_size=3, stride=3, padding=1)\n",
        "        self.conv11 = nn.Conv2d(in_depth, depth, kernel_size=3, stride=3, padding=1)\n",
        "        if not self.first :\n",
        "            self.pre_bn = nn.BatchNorm2d(in_depth)\n",
        "\n",
        "    def forward(self, x):\n",
        "        # x is (B x d_in x T)\n",
        "        prev = x\n",
        "        prev_mp =  self.conv11(x)\n",
        "        if not self.first:\n",
        "            out = self.pre_bn(x)\n",
        "            out = self.lrelu(out)\n",
        "        else:\n",
        "            out = x\n",
        "        out = self.conv1(x)\n",
        "        # out is (B x depth x T/2)\n",
        "        out = self.bn1(out)\n",
        "        out = self.lrelu(out)\n",
        "        out = self.dropout(out)\n",
        "        out = self.conv2(out)\n",
        "        # out is (B x depth x T/2)\n",
        "        out = out + prev_mp\n",
        "        return out\n",
        "\n",
        "class CQCCModel(nn.Module):\n",
        "    def __init__(self):\n",
        "        super(CQCCModel, self).__init__()\n",
        "        self.conv1 = nn.Conv2d(1, 32, kernel_size=3, stride=1, padding=1)\n",
        "        self.block1 = ResNetBlock(32, 32, True)\n",
        "        self.mp = nn.MaxPool2d(3, stride=3, padding=1)\n",
        "        self.block2 = ResNetBlock(32, 32, False)\n",
        "        self.block3 = ResNetBlock(32, 32, False)\n",
        "        self.block4 = ResNetBlock(32, 32, False)\n",
        "        self.block5 = ResNetBlock(32, 32, False)\n",
        "        self.block6 = ResNetBlock(32, 32, False)\n",
        "        self.block7 = ResNetBlock(32, 32, False)\n",
        "        self.block8 = ResNetBlock(32, 32, False)\n",
        "        self.block9 = ResNetBlock(32, 32, False)\n",
        "        self.block10 = ResNetBlock(32, 32, False)\n",
        "        self.block11 = ResNetBlock(32, 32, False)\n",
        "        self.lrelu = nn.LeakyReLU(0.01)\n",
        "        self.bn = nn.BatchNorm2d(32)\n",
        "        self.dropout = nn.Dropout(0.5)\n",
        "        self.logsoftmax = nn.LogSoftmax(dim=1)\n",
        "        self.fc1 = nn.Linear(32, 128)\n",
        "        self.fc2 = nn.Linear(128, 3)\n",
        "\n",
        "    def forward(self, x):\n",
        "        batch_size = x.size(0)\n",
        "        x = x.unsqueeze(dim=1)\n",
        "        out = self.conv1(x)\n",
        "        out = self.block1(out)\n",
        "        # out = self.block2(out)\n",
        "        # out = self.mp(out)\n",
        "        out = self.block3(out)\n",
        "        # out = self.block4(out)\n",
        "        out = self.mp(out)\n",
        "        out = self.block5(out)\n",
        "        # out = self.block6(out)\n",
        "        out = self.mp(out)\n",
        "        out = self.block7(out)\n",
        "        # out = self.block8(out)\n",
        "        out = self.mp(out)\n",
        "        out = self.block9(out)\n",
        "        # out = self.block10(out)\n",
        "        out = self.mp(out)\n",
        "        out = self.block11(out)\n",
        "        out = self.bn(out)\n",
        "        out = self.lrelu(out)\n",
        "        out = self.mp(out)\n",
        "        out = out.view(batch_size, -1)\n",
        "        out = self.dropout(out)\n",
        "        out = self.fc1(out)\n",
        "        out = self.lrelu(out)\n",
        "        out = self.fc2(out)\n",
        "        out = self.logsoftmax(out)\n",
        "        return out"
      ]
    },
    {
      "cell_type": "markdown",
      "metadata": {
        "id": "0P6Bi7saTIJ1"
      },
      "source": [
        "## Training"
      ]
    },
    {
      "cell_type": "code",
      "execution_count": null,
      "metadata": {
        "id": "dJJPGT3aRx05"
      },
      "outputs": [],
      "source": [
        "def train_epoch(data_loader, model, lr, device):\n",
        "    running_loss = 0\n",
        "    num_correct = 0.0\n",
        "    num_total = 0.0\n",
        "    ii = 0\n",
        "    model.train()\n",
        "    optim = torch.optim.Adam(model.parameters(), lr=lr)\n",
        "    weight = torch.FloatTensor([1.0, 5.0, 9.0]).to(device)\n",
        "    criterion = nn.NLLLoss(weight=weight)\n",
        "    for batch_x, batch_y, batch_meta in data_loader:\n",
        "        batch_size = batch_x.size(0)\n",
        "        num_total += batch_size\n",
        "        ii += 1\n",
        "        batch_x = batch_x.to(device)\n",
        "        #pdb.set_trace()\n",
        "        batch_y = batch_y.view(-1).type(torch.int64).to(device)\n",
        "        #pdb.set_trace()\n",
        "        batch_out = model(batch_x)\n",
        "        #pdb.set_trace()\n",
        "        batch_loss = criterion(batch_out, batch_y)\n",
        "        _, batch_pred = batch_out.max(dim=1)\n",
        "        num_correct += (batch_pred == batch_y).sum(dim=0).item()\n",
        "        running_loss += (batch_loss.item() * batch_size)\n",
        "        if ii % 10 == 0:\n",
        "            sys.stdout.write('\\r \\t {:.2f}'.format(\n",
        "                (num_correct/num_total)*100))\n",
        "        optim.zero_grad()\n",
        "        batch_loss.backward()\n",
        "        optim.step()\n",
        "    running_loss /= num_total\n",
        "    train_accuracy = (num_correct/num_total)*100\n",
        "    return running_loss, train_accuracy\n",
        "\n",
        "def evaluate_accuracy(data_loader, model, device):\n",
        "    num_correct = 0.0\n",
        "    num_total = 0.0\n",
        "    model.eval()\n",
        "    for batch_x, batch_y, batch_meta in data_loader:\n",
        "        batch_size = batch_x.size(0)\n",
        "        num_total += batch_size\n",
        "        batch_x = batch_x.to(device)\n",
        "        batch_y = batch_y.view(-1).type(torch.int64).to(device)\n",
        "        batch_out = model(batch_x)\n",
        "        _, batch_pred = batch_out.max(dim=1)\n",
        "        num_correct += (batch_pred == batch_y).sum(dim=0).item()\n",
        "    return 100 * (num_correct / num_total)\n",
        "\n",
        "tran = transforms.Compose([\n",
        "        lambda x: Tensor(x)\n",
        "          ])\n",
        "\n",
        "device = 'cuda' if torch.cuda.is_available() else 'cpu'"
      ]
    },
    {
      "cell_type": "code",
      "execution_count": 10,
      "metadata": {
        "id": "t3sd_9TXGqvt"
      },
      "outputs": [],
      "source": [
        "dev_set_path = os.getcwd() + \"/cqcc_feats_dev\"\n",
        "train_set_path = os.getcwd() + \"/cqcc_feats_train\"\n",
        "eval_set_path = os.getcwd() + \"/cqcc_feats_eval\""
      ]
    },
    {
      "cell_type": "code",
      "execution_count": null,
      "metadata": {
        "id": "eZhMttjcMX0G"
      },
      "outputs": [],
      "source": [
        "model = CQCCModel().to(device)"
      ]
    },
    {
      "cell_type": "markdown",
      "source": [
        "# Model Training"
      ],
      "metadata": {
        "id": "PT9nsOYw-Wwo"
      }
    },
    {
      "cell_type": "code",
      "execution_count": null,
      "metadata": {
        "id": "uj-QjTvNEgBY"
      },
      "outputs": [],
      "source": [
        "batch_size = 32\n",
        "num_epochs = 100\n",
        "lr = 0.0001\n",
        "model_tag = 'model_{}_{}_{}_{}'.format('CQCC', num_epochs, batch_size, lr)\n",
        "model_save_path = os.path.join('models', model_tag)\n",
        "\n",
        "model = CQCCModel().to(device)\n",
        "\n",
        "if not os.path.exists(model_save_path):\n",
        "    os.mkdir(model_save_path)\n",
        "\n",
        "dev_set = ASVDataset(dev_set_path, is_train=False, is_eval= False, transform = tran)\n",
        "\n",
        "dev_loader = DataLoader(dev_set, batch_size=batch_size, shuffle=True)\n",
        "\n",
        "train_set = ASVDataset(train_set_path, is_train=True, transform = tran)\n",
        "\n",
        "train_loader = DataLoader(\n",
        "    train_set, batch_size=batch_size, shuffle=True)\n",
        "\n",
        "writer = SummaryWriter('logs/{}'.format(model_tag))\n"
      ]
    },
    {
      "cell_type": "code",
      "execution_count": null,
      "metadata": {
        "colab": {
          "base_uri": "https://localhost:8080/"
        },
        "id": "feo39ADQDvwt",
        "outputId": "2cc6d99d-3e9c-47fe-a476-f6df32ebea93"
      },
      "outputs": [
        {
          "name": "stdout",
          "output_type": "stream",
          "text": [
            " \t 65.46\n",
            "0 - 0.8615317337155206 - 65.71 - 79.18\n",
            " \t 80.41\n",
            "1 - 0.4742388218675419 - 80.44 - 81.12\n",
            " \t 81.30\n",
            "2 - 0.3681757858733541 - 81.36 - 79.63\n",
            " \t 81.98\n",
            "3 - 0.34175630430994985 - 81.97 - 81.45\n",
            " \t 82.10\n",
            "4 - 0.3409140512728427 - 82.07 - 81.33\n",
            " \t 82.46\n",
            "5 - 0.3327351108039777 - 82.46 - 81.80\n",
            " \t 82.51\n",
            "6 - 0.32928082993259045 - 82.50 - 81.74\n",
            " \t 82.36\n",
            "7 - 0.32670026374095357 - 82.38 - 81.71\n",
            " \t 82.41\n",
            "8 - 0.3254360457033818 - 82.46 - 81.92\n",
            " \t 82.36\n",
            "9 - 0.32243630511927307 - 82.33 - 81.76\n",
            " \t 82.80\n",
            "10 - 0.3181682801647194 - 82.83 - 81.33\n",
            " \t 83.10\n",
            "11 - 0.3139132685097359 - 82.95 - 81.76\n",
            " \t 82.82\n",
            "12 - 0.3138846988359814 - 82.79 - 81.92\n",
            " \t 82.74\n",
            "13 - 0.3101468944979697 - 82.83 - 82.01\n",
            " \t 83.17\n",
            "14 - 0.3083312288524086 - 83.09 - 80.45\n",
            " \t 82.98\n",
            "15 - 0.30712217610840037 - 83.06 - 81.45\n",
            " \t 82.85\n",
            "16 - 0.3076077753257642 - 82.88 - 82.18\n",
            " \t 82.87\n",
            "17 - 0.2983167977586144 - 82.88 - 82.14\n",
            " \t 82.91\n",
            "18 - 0.3016451982743597 - 83.02 - 74.87\n",
            " \t 83.36\n",
            "19 - 0.2932025738097457 - 83.38 - 82.29\n",
            " \t 83.11\n",
            "20 - 0.29562424750854244 - 83.11 - 81.86\n",
            " \t 83.42\n",
            "21 - 0.28866874988455044 - 83.52 - 81.50\n",
            " \t 83.44\n",
            "22 - 0.2836112051621882 - 83.43 - 79.01\n",
            " \t 83.55\n",
            "23 - 0.2812477984515799 - 83.46 - 77.74\n",
            " \t 83.71\n",
            "24 - 0.2831785601484452 - 83.77 - 81.35\n",
            " \t 83.52\n",
            "25 - 0.27943493079916126 - 83.55 - 75.32\n",
            " \t 83.68\n",
            "26 - 0.280675171912513 - 83.71 - 81.69\n",
            " \t 83.80\n",
            "27 - 0.2759613328168482 - 83.73 - 82.29\n",
            " \t 83.96\n",
            "28 - 0.26889633776782895 - 83.95 - 70.54\n",
            " \t 83.97\n",
            "29 - 0.2690857025378986 - 84.02 - 79.36\n",
            " \t 83.99\n",
            "30 - 0.26902231551868944 - 84.05 - 82.32\n",
            " \t 84.37\n",
            "31 - 0.2660293492334587 - 84.36 - 82.48\n",
            " \t 84.06\n",
            "32 - 0.2698407672593138 - 83.99 - 82.11\n",
            " \t 83.95\n",
            "33 - 0.2677433377643176 - 83.87 - 82.63\n",
            " \t 84.07\n",
            "34 - 0.26206012565746434 - 84.07 - 72.04\n",
            " \t 84.08\n",
            "35 - 0.26641472491338625 - 84.12 - 82.50\n",
            " \t 84.15\n",
            "36 - 0.26336950716591373 - 84.26 - 72.50\n",
            " \t 84.04\n",
            "37 - 0.2603732988539885 - 84.06 - 82.05\n",
            " \t 84.11\n",
            "38 - 0.2643725612592315 - 84.01 - 82.35\n",
            " \t 84.06\n",
            "39 - 0.2594863552772257 - 84.15 - 82.47\n",
            " \t 84.28\n",
            "40 - 0.26199006303752276 - 84.16 - 66.76\n",
            " \t 84.21\n",
            "41 - 0.2551267388532434 - 84.21 - 82.32\n",
            " \t 84.10\n",
            "42 - 0.257560931945539 - 84.21 - 82.49\n",
            " \t 84.52\n",
            "43 - 0.25085535408227033 - 84.55 - 72.57\n",
            " \t 84.44\n",
            "44 - 0.2518072521108487 - 84.38 - 76.58\n",
            " \t 84.44\n",
            "45 - 0.25339001068954203 - 84.46 - 60.47\n",
            " \t 84.54\n",
            "46 - 0.2523403104911009 - 84.56 - 78.55\n",
            " \t 84.54\n",
            "47 - 0.2481358590677705 - 84.55 - 80.25\n",
            " \t 84.58\n",
            "48 - 0.2473198170195831 - 84.52 - 80.77\n",
            " \t 84.72\n",
            "49 - 0.2445406256262789 - 84.64 - 81.56\n",
            " \t 84.63\n",
            "50 - 0.24324091018361416 - 84.74 - 77.14\n",
            " \t 84.45\n",
            "51 - 0.24772883571027207 - 84.50 - 80.89\n",
            " \t 84.91\n",
            "52 - 0.24078168846885864 - 84.95 - 82.44\n",
            " \t 84.44\n",
            "53 - 0.24709407105023462 - 84.44 - 82.40\n",
            " \t 84.88\n",
            "54 - 0.23908689333628771 - 84.87 - 82.33\n",
            " \t 84.65\n",
            "55 - 0.24029551823091852 - 84.70 - 82.40\n",
            " \t 85.00\n",
            "56 - 0.2370361897862563 - 84.99 - 81.17\n",
            " \t 84.95\n",
            "57 - 0.2357303196974682 - 84.88 - 81.67\n",
            " \t 84.87\n",
            "58 - 0.23819492815923674 - 84.83 - 82.08\n",
            " \t 85.11\n",
            "59 - 0.23693528159764396 - 85.13 - 82.40\n",
            " \t 84.96\n",
            "60 - 0.23473513102476812 - 85.01 - 81.14\n",
            " \t 84.68\n",
            "61 - 0.2378058968244868 - 84.69 - 82.43\n",
            " \t 85.13\n",
            "62 - 0.2311866718560241 - 85.06 - 82.19\n",
            " \t 85.28\n",
            "63 - 0.2271504305266114 - 85.31 - 82.26\n",
            " \t 85.18\n",
            "64 - 0.2295545677691072 - 85.15 - 81.12\n",
            " \t 85.25\n",
            "65 - 0.22747055300322594 - 85.15 - 81.06\n",
            " \t 84.98\n",
            "66 - 0.23122192917547413 - 84.92 - 81.24\n",
            " \t 85.25\n",
            "67 - 0.23074623982202647 - 85.23 - 82.34\n",
            " \t 85.31\n",
            "68 - 0.2247847738999727 - 85.36 - 82.20\n",
            " \t 85.13\n",
            "69 - 0.22665034626539812 - 85.19 - 82.21\n",
            " \t 85.05\n",
            "70 - 0.226560157809425 - 85.03 - 81.96\n",
            " \t 85.26\n",
            "71 - 0.2212134114316899 - 85.32 - 82.32\n",
            " \t 85.36\n",
            "72 - 0.22330778331395185 - 85.41 - 81.69\n",
            " \t 85.47\n",
            "73 - 0.21532000470998952 - 85.41 - 75.51\n",
            " \t 85.25\n",
            "74 - 0.22495786841416823 - 85.16 - 64.83\n",
            " \t 85.15\n",
            "75 - 0.21824047786445736 - 85.17 - 75.74\n",
            " \t 85.52\n",
            "76 - 0.21778127348527693 - 85.45 - 81.94\n",
            " \t 85.32\n",
            "77 - 0.21746131254316697 - 85.37 - 75.85\n",
            " \t 85.48\n",
            "78 - 0.21198393174053468 - 85.43 - 82.32\n",
            " \t 85.53\n",
            "79 - 0.21548867417387763 - 85.46 - 78.91\n",
            " \t 85.28\n",
            "80 - 0.21654499502253013 - 85.29 - 80.24\n",
            " \t 85.27\n",
            "81 - 0.22013055741126958 - 85.31 - 78.65\n",
            " \t 85.30\n",
            "82 - 0.2171431517853633 - 85.39 - 81.87\n",
            " \t 85.56\n",
            "83 - 0.21483374437663608 - 85.51 - 82.09\n",
            " \t 85.88\n",
            "84 - 0.20772032126778636 - 85.78 - 81.28\n",
            " \t 85.73\n",
            "85 - 0.20806703828317877 - 85.82 - 73.84\n",
            " \t 85.36\n",
            "86 - 0.21209871054332918 - 85.34 - 82.16\n",
            " \t 85.76\n",
            "87 - 0.20879346508363497 - 85.60 - 66.13\n",
            " \t 85.75\n",
            "88 - 0.20510799034650473 - 85.77 - 70.99\n",
            " \t 85.95\n",
            "89 - 0.20172039570472494 - 85.87 - 82.52\n",
            " \t 85.61\n",
            "90 - 0.20938607972967302 - 85.49 - 79.44\n",
            " \t 85.85\n",
            "91 - 0.20604113045882158 - 85.82 - 79.77\n",
            " \t 85.80\n",
            "92 - 0.20704255820048953 - 85.85 - 82.29\n",
            " \t 85.67\n",
            "93 - 0.20351927526332167 - 85.77 - 81.47\n",
            " \t 85.84\n",
            "94 - 0.20220418177109814 - 85.83 - 75.51\n",
            " \t 86.07\n",
            "95 - 0.20098897962681253 - 86.01 - 82.40\n",
            " \t 85.67\n",
            "96 - 0.20118048279032355 - 85.70 - 82.33\n",
            " \t 86.15\n",
            "97 - 0.19950997835695858 - 86.09 - 81.55\n",
            " \t 85.87\n",
            "98 - 0.19891511005110848 - 85.96 - 80.83\n",
            " \t 85.70\n",
            "99 - 0.1999156194112828 - 85.66 - 82.20\n"
          ]
        }
      ],
      "source": [
        "for epoch in range(num_epochs):\n",
        "    running_loss, train_accuracy = train_epoch(\n",
        "         train_loader, model, lr, device)\n",
        "    valid_accuracy = evaluate_accuracy(dev_loader, model, device)\n",
        "    writer.add_scalar('train_accuracy', train_accuracy, epoch)\n",
        "    writer.add_scalar('valid_accuracy', valid_accuracy, epoch)\n",
        "    writer.add_scalar('loss', running_loss, epoch)\n",
        "    print('\\n{} - {} - {:.2f} - {:.2f}'.format(epoch,\n",
        "                                                running_loss, train_accuracy, valid_accuracy))\n",
        "    torch.save(model.state_dict(), os.path.join(\n",
        "        model_save_path, 'epoch_{}.pth'.format(epoch)))"
      ]
    },
    {
      "cell_type": "markdown",
      "source": [
        "## Evaluation"
      ],
      "metadata": {
        "id": "STKf_zMhuPDd"
      }
    },
    {
      "cell_type": "code",
      "execution_count": null,
      "metadata": {
        "colab": {
          "base_uri": "https://localhost:8080/"
        },
        "id": "emVOuRGcVbwv",
        "outputId": "ce9524cd-3a1c-4ed9-801d-75ed77fbdf1d"
      },
      "outputs": [
        {
          "output_type": "stream",
          "name": "stdout",
          "text": [
            "Model loaded : /content/drive/My Drive/FYP/ASVSpoof_2019/Test/models/model_CQCC_100_32_0.0001/epoch_99.pth\n"
          ]
        }
      ],
      "source": [
        "model_path = os.getcwd() + \"/models/model_CQCC_100_32_0.0001/epoch_99.pth\"\n",
        "\n",
        "model.load_state_dict(torch.load(model_path, map_location ='cpu'))\n",
        "print('Model loaded : {}'.format(model_path))"
      ]
    },
    {
      "cell_type": "code",
      "execution_count": null,
      "metadata": {
        "id": "xBn33-6JmSoG"
      },
      "outputs": [],
      "source": [
        "batch_size = 32\n",
        "eval_set = ASVDataset(eval_set_path, is_train=False, is_eval= True, transform = tran)\n",
        "eval_loader = DataLoader(eval_set, batch_size=batch_size, shuffle=True)\n"
      ]
    },
    {
      "cell_type": "markdown",
      "source": [
        "#### Accuracy"
      ],
      "metadata": {
        "id": "8T9uUbQXubXN"
      }
    },
    {
      "cell_type": "code",
      "execution_count": null,
      "metadata": {
        "colab": {
          "base_uri": "https://localhost:8080/"
        },
        "id": "Nmh6R_Bqfz11",
        "outputId": "85c6cbbb-baf8-4458-d9ef-1967d27e744c"
      },
      "outputs": [
        {
          "name": "stdout",
          "output_type": "stream",
          "text": [
            "Accuracy = 81.14133179424284 %\n"
          ]
        }
      ],
      "source": [
        "valid_accuracy = evaluate_accuracy(eval_loader, model, device)\n",
        "print(\"Accuracy =\", valid_accuracy, '%')"
      ]
    },
    {
      "cell_type": "code",
      "execution_count": null,
      "metadata": {
        "id": "dbVFa_-gbs8S"
      },
      "outputs": [],
      "source": [
        "def produce_evaluation_file(dataset, model, device, save_path):\n",
        "    data_loader = DataLoader(dataset, batch_size=32, shuffle=False)\n",
        "    num_correct = 0.0\n",
        "    num_total = 0.0\n",
        "    model.eval()\n",
        "    true_y = []\n",
        "    fname_list = []\n",
        "    key_list = []\n",
        "    sys_id_list = []\n",
        "    key_list = []\n",
        "    bona_score_list = []\n",
        "    LA_score_list = []\n",
        "    PA_score_list = []\n",
        "    true_list = []\n",
        "    pred_list = []\n",
        "    for batch_x, batch_y, batch_meta in data_loader:\n",
        "        batch_size = batch_x.size(0)\n",
        "        num_total += batch_size\n",
        "        batch_x = batch_x.to(device)\n",
        "        batch_out = model(batch_x)\n",
        "        max_spoof_score, _ = batch_out[:, 1:3].max(dim=1)\n",
        "        batch_bona_score = ((batch_out[:, 0]) - (max_spoof_score)\n",
        "                       ).data.cpu().numpy().ravel()\n",
        "\n",
        "        max_spoof_PA_score, _ = batch_out[:, (0,2)].max(dim=1)\n",
        "        batch_LA_score = ((batch_out[:, 1]) - (max_spoof_PA_score)\n",
        "                       ).data.cpu().numpy().ravel()\n",
        "\n",
        "        max_spoof_LA_score, _ = batch_out[:, 0:2].max(dim=1)\n",
        "        batch_PA_score = ((batch_out[:, 2]) - (max_spoof_LA_score)\n",
        "                       ).data.cpu().numpy().ravel()\n",
        "\n",
        "        _, batch_pred = batch_out.max(dim=1)\n",
        "\n",
        "        # add outputs\n",
        "        fname_list.extend(list(batch_meta[1]))\n",
        "        key_list.extend(\n",
        "            ['bonafide' if key == 0 else 'LA_spoof' if key == 1 else 'PA_spoof' for key in list(batch_meta[4])])\n",
        "        sys_id_list.extend([dataset.sysid_dict_inv[s.item()]\n",
        "                            for s in list(batch_meta[3])])\n",
        "        bona_score_list.extend(batch_bona_score.tolist())\n",
        "        LA_score_list.extend(batch_LA_score.tolist())\n",
        "        PA_score_list.extend(batch_PA_score.tolist())\n",
        "        pred_list.extend(batch_pred.tolist())\n",
        "        true_list.extend(batch_y.tolist())\n",
        "\n",
        "    with open(save_path, 'w') as fh:\n",
        "        for f, s, k, bona_cm, LA_cm, PA_cm, pred, true in zip(fname_list, sys_id_list, key_list, bona_score_list, LA_score_list, PA_score_list, pred_list, true_list):\n",
        "            #if not dataset.is_eval:\n",
        "            fh.write('{} {} {} {} {} {} {} {}\\n'.format(f, s, k, bona_cm, LA_cm, PA_cm, pred, true))\n",
        "            #else:\n",
        "            #    fh.write('{} {}\\n'.format(f, cm))\n",
        "    print('Result saved to {}'.format(save_path))"
      ]
    },
    {
      "cell_type": "code",
      "execution_count": null,
      "metadata": {
        "colab": {
          "base_uri": "https://localhost:8080/"
        },
        "id": "B36hxU0pb4Jd",
        "outputId": "33fa6e08-2021-4660-a57b-3546cb11d990"
      },
      "outputs": [
        {
          "output_type": "stream",
          "name": "stdout",
          "text": [
            "Result saved to /content/drive/MyDrive/FYP/ASVSpoof_2019/Test/eval_output/eval_output.txt\n"
          ]
        }
      ],
      "source": [
        "\n",
        "eval_output = os.getcwd() + \"/eval_output/eval_output.txt\"\n",
        "\n",
        "produce_evaluation_file(eval_set, model, device, eval_output)"
      ]
    },
    {
      "cell_type": "code",
      "execution_count": null,
      "metadata": {
        "colab": {
          "base_uri": "https://localhost:8080/"
        },
        "id": "Mghi6XEOeSPP",
        "outputId": "c9cae944-ed77-4b45-f403-36d350766807"
      },
      "outputs": [
        {
          "name": "stdout",
          "output_type": "stream",
          "text": [
            "----------------------------------------------------------------\n",
            "        Layer (type)               Output Shape         Param #\n",
            "================================================================\n",
            "            Conv2d-1          [-1, 32, 469, 60]             320\n",
            "            Conv2d-2          [-1, 32, 157, 20]           9,248\n",
            "            Conv2d-3          [-1, 32, 469, 60]           9,248\n",
            "       BatchNorm2d-4          [-1, 32, 469, 60]              64\n",
            "         LeakyReLU-5          [-1, 32, 469, 60]               0\n",
            "           Dropout-6          [-1, 32, 469, 60]               0\n",
            "            Conv2d-7          [-1, 32, 157, 20]           9,248\n",
            "       ResNetBlock-8          [-1, 32, 157, 20]               0\n",
            "            Conv2d-9            [-1, 32, 53, 7]           9,248\n",
            "      BatchNorm2d-10          [-1, 32, 157, 20]              64\n",
            "        LeakyReLU-11          [-1, 32, 157, 20]               0\n",
            "           Conv2d-12          [-1, 32, 157, 20]           9,248\n",
            "      BatchNorm2d-13          [-1, 32, 157, 20]              64\n",
            "        LeakyReLU-14          [-1, 32, 157, 20]               0\n",
            "          Dropout-15          [-1, 32, 157, 20]               0\n",
            "           Conv2d-16            [-1, 32, 53, 7]           9,248\n",
            "      ResNetBlock-17            [-1, 32, 53, 7]               0\n",
            "        MaxPool2d-18            [-1, 32, 18, 3]               0\n",
            "           Conv2d-19             [-1, 32, 6, 1]           9,248\n",
            "      BatchNorm2d-20            [-1, 32, 18, 3]              64\n",
            "        LeakyReLU-21            [-1, 32, 18, 3]               0\n",
            "           Conv2d-22            [-1, 32, 18, 3]           9,248\n",
            "      BatchNorm2d-23            [-1, 32, 18, 3]              64\n",
            "        LeakyReLU-24            [-1, 32, 18, 3]               0\n",
            "          Dropout-25            [-1, 32, 18, 3]               0\n",
            "           Conv2d-26             [-1, 32, 6, 1]           9,248\n",
            "      ResNetBlock-27             [-1, 32, 6, 1]               0\n",
            "        MaxPool2d-28             [-1, 32, 2, 1]               0\n",
            "           Conv2d-29             [-1, 32, 1, 1]           9,248\n",
            "      BatchNorm2d-30             [-1, 32, 2, 1]              64\n",
            "        LeakyReLU-31             [-1, 32, 2, 1]               0\n",
            "           Conv2d-32             [-1, 32, 2, 1]           9,248\n",
            "      BatchNorm2d-33             [-1, 32, 2, 1]              64\n",
            "        LeakyReLU-34             [-1, 32, 2, 1]               0\n",
            "          Dropout-35             [-1, 32, 2, 1]               0\n",
            "           Conv2d-36             [-1, 32, 1, 1]           9,248\n",
            "      ResNetBlock-37             [-1, 32, 1, 1]               0\n",
            "        MaxPool2d-38             [-1, 32, 1, 1]               0\n",
            "           Conv2d-39             [-1, 32, 1, 1]           9,248\n",
            "      BatchNorm2d-40             [-1, 32, 1, 1]              64\n",
            "        LeakyReLU-41             [-1, 32, 1, 1]               0\n",
            "           Conv2d-42             [-1, 32, 1, 1]           9,248\n",
            "      BatchNorm2d-43             [-1, 32, 1, 1]              64\n",
            "        LeakyReLU-44             [-1, 32, 1, 1]               0\n",
            "          Dropout-45             [-1, 32, 1, 1]               0\n",
            "           Conv2d-46             [-1, 32, 1, 1]           9,248\n",
            "      ResNetBlock-47             [-1, 32, 1, 1]               0\n",
            "        MaxPool2d-48             [-1, 32, 1, 1]               0\n",
            "           Conv2d-49             [-1, 32, 1, 1]           9,248\n",
            "      BatchNorm2d-50             [-1, 32, 1, 1]              64\n",
            "        LeakyReLU-51             [-1, 32, 1, 1]               0\n",
            "           Conv2d-52             [-1, 32, 1, 1]           9,248\n",
            "      BatchNorm2d-53             [-1, 32, 1, 1]              64\n",
            "        LeakyReLU-54             [-1, 32, 1, 1]               0\n",
            "          Dropout-55             [-1, 32, 1, 1]               0\n",
            "           Conv2d-56             [-1, 32, 1, 1]           9,248\n",
            "      ResNetBlock-57             [-1, 32, 1, 1]               0\n",
            "      BatchNorm2d-58             [-1, 32, 1, 1]              64\n",
            "        LeakyReLU-59             [-1, 32, 1, 1]               0\n",
            "        MaxPool2d-60             [-1, 32, 1, 1]               0\n",
            "          Dropout-61                   [-1, 32]               0\n",
            "           Linear-62                   [-1, 32]           1,056\n",
            "        LeakyReLU-63                   [-1, 32]               0\n",
            "           Linear-64                    [-1, 3]              99\n",
            "       LogSoftmax-65                    [-1, 3]               0\n",
            "================================================================\n",
            "Total params: 168,707\n",
            "Trainable params: 168,707\n",
            "Non-trainable params: 0\n",
            "----------------------------------------------------------------\n",
            "Input size (MB): 0.11\n",
            "Forward/backward pass size (MB): 41.63\n",
            "Params size (MB): 0.64\n",
            "Estimated Total Size (MB): 42.38\n",
            "----------------------------------------------------------------\n"
          ]
        }
      ],
      "source": [
        "summary(model, (469, 60))"
      ]
    },
    {
      "cell_type": "markdown",
      "source": [
        "## Results"
      ],
      "metadata": {
        "id": "c0OGvr7OhDFX"
      }
    },
    {
      "cell_type": "code",
      "execution_count": null,
      "metadata": {
        "id": "TNZgSWqL4DtE"
      },
      "outputs": [],
      "source": [
        "eval_set_cm_path = os.getcwd() + \"/CM_protocol/cm_eval.trl.txt\""
      ]
    },
    {
      "cell_type": "code",
      "execution_count": null,
      "metadata": {
        "colab": {
          "base_uri": "https://localhost:8080/",
          "height": 1000
        },
        "id": "44KP7oA2WdCz",
        "outputId": "e7a343fb-c6b1-4dc8-c3c9-caf6d0c2758a"
      },
      "outputs": [
        {
          "output_type": "stream",
          "name": "stderr",
          "text": [
            "/usr/local/lib/python3.7/dist-packages/ipykernel_launcher.py:45: DeprecationWarning: `np.float` is a deprecated alias for the builtin `float`. To silence this warning, use `float` by itself. Doing this will not modify any behavior and is safe. If you specifically wanted the numpy scalar type, use `np.float64` here.\n",
            "Deprecated in NumPy 1.20; for more details and guidance: https://numpy.org/devdocs/release/1.20.0-notes.html#deprecations\n",
            "/usr/local/lib/python3.7/dist-packages/ipykernel_launcher.py:46: DeprecationWarning: `np.float` is a deprecated alias for the builtin `float`. To silence this warning, use `float` by itself. Doing this will not modify any behavior and is safe. If you specifically wanted the numpy scalar type, use `np.float64` here.\n",
            "Deprecated in NumPy 1.20; for more details and guidance: https://numpy.org/devdocs/release/1.20.0-notes.html#deprecations\n",
            "/usr/local/lib/python3.7/dist-packages/ipykernel_launcher.py:47: DeprecationWarning: `np.float` is a deprecated alias for the builtin `float`. To silence this warning, use `float` by itself. Doing this will not modify any behavior and is safe. If you specifically wanted the numpy scalar type, use `np.float64` here.\n",
            "Deprecated in NumPy 1.20; for more details and guidance: https://numpy.org/devdocs/release/1.20.0-notes.html#deprecations\n"
          ]
        },
        {
          "output_type": "stream",
          "name": "stdout",
          "text": [
            "FAR:  0.49820751189028417\n",
            "FRR:  0.4872287848923816\n",
            "   EER = 48.827655001 % (Equal error rate for countermeasure)\n",
            "FAR:  0.6696160250463835\n",
            "FRR:  0.7005111354019671\n",
            "   EER = 82.418041046 % (LA Equal error rate for countermeasure)\n",
            "FAR:  0.6537192266327387\n",
            "FRR:  0.7134533048779266\n",
            "   EER = 78.651863854 % (PA Equal error rate for countermeasure)\n"
          ]
        },
        {
          "output_type": "display_data",
          "data": {
            "text/plain": [
              "<Figure size 432x288 with 1 Axes>"
            ],
            "image/png": "[encoded data removed]"
          },
          "metadata": {
            "needs_background": "light"
          }
        },
        {
          "output_type": "display_data",
          "data": {
            "text/plain": [
              "<Figure size 432x288 with 1 Axes>"
            ],
            "image/png": "[encoded data removed]"
          },
          "metadata": {
            "needs_background": "light"
          }
        },
        {
          "output_type": "display_data",
          "data": {
            "text/plain": [
              "<Figure size 432x288 with 1 Axes>"
            ],
            "image/png": "[encoded data removed]"
          },
          "metadata": {
            "needs_background": "light"
          }
        },
        {
          "output_type": "display_data",
          "data": {
            "text/plain": [
              "<Figure size 432x288 with 1 Axes>"
            ],
            "image/png": "[encoded data removed]"
          },
          "metadata": {
            "needs_background": "light"
          }
        },
        {
          "output_type": "display_data",
          "data": {
            "text/plain": [
              "<Figure size 432x288 with 1 Axes>"
            ],
            "image/png": "[encoded data removed]"
          },
          "metadata": {
            "needs_background": "light"
          }
        },
        {
          "output_type": "display_data",
          "data": {
            "text/plain": [
              "<Figure size 432x288 with 1 Axes>"
            ],
            "image/png": "[encoded data removed]"
          },
          "metadata": {
            "needs_background": "light"
          }
        }
      ],
      "source": [
        "def compute_det_curve(target_scores, nontarget_scores):\n",
        "\n",
        "    n_scores = target_scores.size + nontarget_scores.size\n",
        "    all_scores = np.concatenate((target_scores, nontarget_scores))\n",
        "    labels = np.concatenate((np.ones(target_scores.size), np.zeros(nontarget_scores.size)))\n",
        "\n",
        "    # Sort labels based on scores\n",
        "    indices = np.argsort(all_scores, kind='mergesort')\n",
        "    labels = labels[indices]\n",
        "\n",
        "    # Compute false rejection and false acceptance rates\n",
        "    tar_trial_sums = np.cumsum(labels)\n",
        "    nontarget_trial_sums = nontarget_scores.size - (np.arange(1, n_scores + 1) - tar_trial_sums)\n",
        "\n",
        "    frr = np.concatenate((np.atleast_1d(0), tar_trial_sums / target_scores.size))  # false rejection rates\n",
        "    far = np.concatenate((np.atleast_1d(1), nontarget_trial_sums / nontarget_scores.size))  # false acceptance rates\n",
        "    thresholds = np.concatenate((np.atleast_1d(all_scores[indices[0]] - 0.01 ), all_scores[indices]))  # Thresholds are the sorted scores\n",
        "\n",
        "    return frr, far, thresholds\n",
        "\n",
        "\n",
        "def compute_eer(target_scores, nontarget_scores):\n",
        "    \"\"\" Returns equal error rate (EER) and the corresponding threshold. \"\"\"\n",
        "    frr, far, thresholds = compute_det_curve(target_scores, nontarget_scores)\n",
        "    plt.figure()\n",
        "    plt.plot(thresholds, frr, label='FRR')\n",
        "    plt.plot(thresholds, far, label='FAR')\n",
        "    plt.legend()\n",
        "    plt.xlabel('Threshold')\n",
        "    plt.ylabel('Probability')\n",
        "    frr_mean = np.mean(frr)\n",
        "    far_mean = np.mean(far)\n",
        "    print('FAR: ', far_mean)\n",
        "    print('FRR: ', frr_mean)\n",
        "    abs_diffs = np.abs(frr - far)\n",
        "    min_index = np.argmin(abs_diffs)\n",
        "    eer = np.mean((frr[min_index], far[min_index]))\n",
        "    return eer, thresholds[min_index]\n",
        "\n",
        "cm_score_file = 'eval_output/eval_output.txt'\n",
        "cm_data = np.genfromtxt(cm_score_file, dtype=str)\n",
        "cm_utt_id = cm_data[:, 0]\n",
        "cm_sources = cm_data[:, 1]\n",
        "cm_keys = cm_data[:, 2]\n",
        "cm_bona_scores = cm_data[:, 3].astype(np.float)\n",
        "cm_LA_scores = cm_data[:, 4].astype(np.float)\n",
        "cm_PA_scores = cm_data[:, 5].astype(np.float)\n",
        "\n",
        "#bonafide\n",
        "bona_cm = cm_bona_scores[cm_keys == 'bonafide']\n",
        "spoof_cm = np.concatenate((cm_bona_scores[cm_keys == 'LA_spoof'], cm_bona_scores[cm_keys == 'PA_spoof']))\n",
        "\n",
        "eer_cm = compute_eer(bona_cm, spoof_cm)[0]\n",
        "\n",
        "plt.figure()\n",
        "plt.subplot(131)\n",
        "plt.hist(bona_cm, histtype='step', density=True, bins=50, label='Bonafide')\n",
        "plt.hist(spoof_cm, histtype='step', density=True, bins=50, label='LA_PA_Spoof')\n",
        "plt.legend()\n",
        "plt.xlabel('CM score')\n",
        "plt.ylabel('Density')\n",
        "plt.title('CM score histogram')\n",
        "\n",
        "print('   EER = {:8.9f} % (Equal error rate for countermeasure)'.format(eer_cm * 100))\n",
        "\n",
        "#LA\n",
        "LA_spoof_cm = cm_LA_scores[cm_keys == 'LA_spoof']\n",
        "bona_PA_cm = np.concatenate((cm_LA_scores[cm_keys == 'bonafide'], cm_LA_scores[cm_keys == 'PA_spoof']))\n",
        "\n",
        "eer_cm = compute_eer(LA_spoof_cm, bona_PA_cm)[0]\n",
        "\n",
        "plt.figure()\n",
        "plt.subplot(132)\n",
        "plt.hist(bona_cm, histtype='step', density=True, bins=50, label='LA_Spoof')\n",
        "plt.hist(spoof_cm, histtype='step', density=True, bins=50, label='Bona_PA_Spoof')\n",
        "plt.legend()\n",
        "plt.xlabel('CM score')\n",
        "plt.ylabel('Density')\n",
        "plt.title('CM score histogram')\n",
        "\n",
        "print('   EER = {:8.9f} % (LA Equal error rate for countermeasure)'.format(eer_cm * 100))\n",
        "\n",
        "#PA\n",
        "PA_spoof_cm = cm_PA_scores[cm_keys == 'PA_spoof']\n",
        "bona_LA_cm = np.concatenate((cm_PA_scores[cm_keys == 'bonafide'], cm_PA_scores[cm_keys == 'LA_spoof']))\n",
        "\n",
        "eer_cm = compute_eer(PA_spoof_cm, bona_LA_cm)[0]\n",
        "\n",
        "plt.figure()\n",
        "plt.subplot(133)\n",
        "plt.hist(bona_cm, histtype='step', density=True, bins=50, label='PA_Spoof')\n",
        "plt.hist(spoof_cm, histtype='step', density=True, bins=50, label='Bona_LA_Spoof')\n",
        "plt.legend()\n",
        "plt.xlabel('CM score')\n",
        "plt.ylabel('Density')\n",
        "plt.title('CM score histogram')\n",
        "\n",
        "print('   EER = {:8.9f} % (PA Equal error rate for countermeasure)'.format(eer_cm * 100))"
      ]
    },
    {
      "cell_type": "code",
      "execution_count": null,
      "metadata": {
        "id": "xKa8txVLUiGJ"
      },
      "outputs": [],
      "source": []
    }
  ],
  "metadata": {
    "colab": {
      "machine_shape": "hm",
      "provenance": []
    },
    "kernelspec": {
      "display_name": "Python 3",
      "name": "python3"
    },
    "language_info": {
      "name": "python"
    }
  },
  "nbformat": 4,
  "nbformat_minor": 0
}